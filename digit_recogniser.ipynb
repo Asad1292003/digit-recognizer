{
  "nbformat": 4,
  "nbformat_minor": 0,
  "metadata": {
    "colab": {
      "provenance": []
    },
    "kernelspec": {
      "name": "python3",
      "display_name": "Python 3"
    },
    "language_info": {
      "name": "python"
    }
  },
  "cells": [
    {
      "cell_type": "code",
      "execution_count": 2,
      "metadata": {
        "colab": {
          "base_uri": "https://localhost:8080/"
        },
        "id": "oscT0Uu2Grjp",
        "outputId": "13da503c-df95-4b50-a486-cdbb21ca7d6b"
      },
      "outputs": [
        {
          "output_type": "stream",
          "name": "stdout",
          "text": [
            "(60000, 28, 28) (60000,)\n",
            "x_train shape: (60000, 28, 28, 1)\n",
            "60000 train samples\n",
            "10000 test samples\n",
            "Epoch 1/10\n",
            "469/469 [==============================] - 51s 109ms/step - loss: 1.3273 - accuracy: 0.6392 - val_loss: 0.3969 - val_accuracy: 0.8860\n",
            "Epoch 2/10\n",
            "469/469 [==============================] - 50s 107ms/step - loss: 0.3338 - accuracy: 0.9002 - val_loss: 0.2477 - val_accuracy: 0.9285\n",
            "Epoch 3/10\n",
            "469/469 [==============================] - 50s 108ms/step - loss: 0.2277 - accuracy: 0.9319 - val_loss: 0.1915 - val_accuracy: 0.9452\n",
            "Epoch 4/10\n",
            "469/469 [==============================] - 50s 107ms/step - loss: 0.1763 - accuracy: 0.9469 - val_loss: 0.1398 - val_accuracy: 0.9597\n",
            "Epoch 5/10\n",
            "469/469 [==============================] - 50s 106ms/step - loss: 0.1434 - accuracy: 0.9573 - val_loss: 0.1215 - val_accuracy: 0.9643\n",
            "Epoch 6/10\n",
            "469/469 [==============================] - 50s 107ms/step - loss: 0.1210 - accuracy: 0.9640 - val_loss: 0.1035 - val_accuracy: 0.9682\n",
            "Epoch 7/10\n",
            "469/469 [==============================] - 50s 106ms/step - loss: 0.1066 - accuracy: 0.9674 - val_loss: 0.0973 - val_accuracy: 0.9715\n",
            "Epoch 8/10\n",
            "469/469 [==============================] - 49s 105ms/step - loss: 0.0947 - accuracy: 0.9710 - val_loss: 0.0897 - val_accuracy: 0.9724\n",
            "Epoch 9/10\n",
            "469/469 [==============================] - 49s 104ms/step - loss: 0.0859 - accuracy: 0.9743 - val_loss: 0.0715 - val_accuracy: 0.9783\n",
            "Epoch 10/10\n",
            "469/469 [==============================] - 50s 106ms/step - loss: 0.0788 - accuracy: 0.9758 - val_loss: 0.0685 - val_accuracy: 0.9803\n",
            "The model has successfully trained\n",
            "313/313 [==============================] - 4s 12ms/step - loss: 0.0685 - accuracy: 0.9803\n",
            "Test loss: 0.06853143125772476\n",
            "Test accuracy: 0.9803000092506409\n"
          ]
        }
      ],
      "source": [
        "import keras\n",
        "from keras.datasets import mnist\n",
        "from keras.models import Sequential\n",
        "from keras.layers import Dense, Dropout, Flatten\n",
        "from keras.layers import Conv2D, MaxPooling2D\n",
        "from keras import backend as K\n",
        "\n",
        "# the data, split between train and test sets\n",
        "(x_train, y_train), (x_test, y_test) = mnist.load_data()\n",
        "\n",
        "print(x_train.shape, y_train.shape)\n",
        "\n",
        "x_train = x_train.reshape(x_train.shape[0], 28, 28, 1)\n",
        "x_test = x_test.reshape(x_test.shape[0], 28, 28, 1)\n",
        "input_shape = (28, 28, 1)\n",
        "\n",
        "# convert class vectors to binary class matrices\n",
        "y_train = keras.utils.to_categorical(y_train, 10)\n",
        "y_test = keras.utils.to_categorical(y_test, 10)\n",
        "\n",
        "x_train = x_train.astype('float32')\n",
        "x_test = x_test.astype('float32')\n",
        "x_train /= 255\n",
        "x_test /= 255\n",
        "print('x_train shape:', x_train.shape)\n",
        "print(x_train.shape[0], 'train samples')\n",
        "print(x_test.shape[0], 'test samples')\n",
        "\n",
        "batch_size = 128\n",
        "\n",
        "\n",
        "model = Sequential()\n",
        "model.add(Conv2D(32, kernel_size=(5, 5),activation='relu',input_shape=input_shape))\n",
        "model.add(MaxPooling2D(pool_size=(2, 2)))\n",
        "model.add(Conv2D(64, (3, 3), activation='relu'))\n",
        "model.add(MaxPooling2D(pool_size=(2, 2)))\n",
        "model.add(Flatten())\n",
        "model.add(Dense(128, activation='relu'))\n",
        "model.add(Dense(64, activation='relu'))\n",
        "model.add(Dense(10, activation='softmax'))\n",
        "\n",
        "model.compile(loss=keras.losses.categorical_crossentropy,optimizer=keras.optimizers.SGD(learning_rate=0.01),metrics=['accuracy'])\n",
        "\n",
        "hist = model.fit(x_train, y_train,batch_size=batch_size,epochs=10,validation_data=(x_test, y_test))\n",
        "print(\"The model has successfully trained\")\n",
        "\n",
        "score = model.evaluate(x_test, y_test)\n",
        "print('Test loss:', score[0])\n",
        "print('Test accuracy:', score[1])\n"
      ]
    }
  ]
}